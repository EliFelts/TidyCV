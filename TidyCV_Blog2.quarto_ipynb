{
  "cells": [
    {
      "cell_type": "markdown",
      "metadata": {},
      "source": [
        "---\n",
        "title: \"Building a CV from tidy data storage\"\n",
        "author: \"Eli Felts\"\n",
        "format: html\n",
        "editor: visual\n",
        "---\n",
        "\n",
        "\n",
        "## Personal Identifiers\n",
        "\n",
        "In the markdown format, these will go in a specialized part called the YAML header.\n",
        "\n",
        "\n",
        "```{yaml}\n",
        "\n",
        "title: \"Test\"\n",
        "\n",
        "```"
      ],
      "id": "04564522"
    }
  ],
  "metadata": {
    "kernelspec": {
      "display_name": "Python 3",
      "language": "python",
      "name": "python3"
    }
  },
  "nbformat": 4,
  "nbformat_minor": 5
}